{
 "cells": [
  {
   "cell_type": "code",
   "execution_count": 3,
   "id": "a3617a6c-d471-4d19-9069-4a5ff7f3d9d2",
   "metadata": {},
   "outputs": [
    {
     "name": "stdout",
     "output_type": "stream",
     "text": [
      "[5, 2, 3, 4, 1]\n"
     ]
    }
   ],
   "source": [
    "\n",
    "#Q1. Write a Program to interchange first and last elements in a list\n",
    "\n",
    "thislist = [1, 2, 3, 4, 5]\n",
    "thislist[0], thislist[-1] = thislist[-1], thislist[0]\n",
    "print(thislist)"
   ]
  },
  {
   "cell_type": "code",
   "execution_count": 7,
   "id": "282e6bd6-b944-4906-a1c8-a4d2b5eb915c",
   "metadata": {},
   "outputs": [
    {
     "name": "stdout",
     "output_type": "stream",
     "text": [
      "[10, 20, 50, 40, 30]\n"
     ]
    }
   ],
   "source": [
    "#Q2. Program to swap two elements in a list\n",
    "\n",
    "thislist= [10, 20, 30, 40, 50]\n",
    "pos1, pos2 = 2, 4\n",
    "thislist[pos1], thislist[pos2] = thislist[pos2], thislist[pos1]\n",
    "print(thislist)"
   ]
  },
  {
   "cell_type": "code",
   "execution_count": 9,
   "id": "0368bb53-a8b5-4798-877d-df4d01af3a5d",
   "metadata": {},
   "outputs": [
    {
     "name": "stdout",
     "output_type": "stream",
     "text": [
      "['Pranjali', 'Targ', 'Hapur', 'NNFT']\n"
     ]
    }
   ],
   "source": [
    "#Q3. Swap elements in String list\n",
    "\n",
    "thislist = [\"Pranjali\", \"Garg\", \"Hapur\", \"AAFT\"]\n",
    "\n",
    "Swap_result = [sub.replace('G', '-').replace('A', 'N').replace('-', 'T') for sub in thislist]\n",
    "\n",
    "print (str(Swap_result))\n"
   ]
  },
  {
   "cell_type": "code",
   "execution_count": 11,
   "id": "9aa9ae68-8504-4a38-b7f6-ef55b9e9aa63",
   "metadata": {},
   "outputs": [
    {
     "name": "stdout",
     "output_type": "stream",
     "text": [
      "4\n"
     ]
    }
   ],
   "source": [
    "#Q4. Ways to find length of list\n",
    "\n",
    "thislist = [\"Pranjali\", \"Garg\", \"Hapur\", \"AAFT\"]\n",
    "print(len(thislist))\n"
   ]
  },
  {
   "cell_type": "code",
   "execution_count": 13,
   "id": "9c8a2393-c34b-49c5-82a7-70843a5c9646",
   "metadata": {},
   "outputs": [
    {
     "name": "stdout",
     "output_type": "stream",
     "text": [
      "20\n"
     ]
    }
   ],
   "source": [
    "#Q5. Maximum of two numbers in Python\n",
    "\n",
    "thislist = [10, 20]\n",
    "print(max(thislist))\n"
   ]
  },
  {
   "cell_type": "code",
   "execution_count": 15,
   "id": "a75af9f0-8108-4742-bf34-5327812e43b3",
   "metadata": {},
   "outputs": [
    {
     "name": "stdout",
     "output_type": "stream",
     "text": [
      "10\n"
     ]
    }
   ],
   "source": [
    "#Q6. Minimum of two numbers in Python\n",
    "\n",
    "thislist = [10, 20]\n",
    "print(min(thislist))"
   ]
  },
  {
   "cell_type": "code",
   "execution_count": 17,
   "id": "f6234d1c-1b87-4e2b-9235-94d7d8c480d4",
   "metadata": {},
   "outputs": [
    {
     "name": "stdout",
     "output_type": "stream",
     "text": [
      "Element exists in the list\n"
     ]
    }
   ],
   "source": [
    "#Q7. Ways to check if element exists in list\n",
    "\n",
    "thislist = [1, 2, 3, 4, 5]\n",
    "if 4 in thislist:\n",
    "    print(\"Element exists in the list\")\n",
    "else:\n",
    "    print(\"Element does not exist\")"
   ]
  },
  {
   "cell_type": "code",
   "execution_count": 19,
   "id": "96c3e543-a5d2-43ee-b473-b3c5c9e02a1d",
   "metadata": {},
   "outputs": [
    {
     "name": "stdout",
     "output_type": "stream",
     "text": [
      "[]\n",
      "[]\n",
      "[]\n",
      "[]\n"
     ]
    }
   ],
   "source": [
    "#Q8. Different ways to clear a list in Python\n",
    "\n",
    "# Clear Method\n",
    "thislist= [1, 2, 3, 4, 5]\n",
    "thislist.clear()\n",
    "print(thislist)\n",
    "\n",
    "# Del Method\n",
    "thislist = [1, 2, 3, 4, 5]\n",
    "del thislist[:]\n",
    "print(thislist)\n",
    "\n",
    "# *=0\n",
    "thislist = [1, 2, 3, 4, 5]\n",
    "thislist *= 0\n",
    "print(thislist)\n",
    "\n",
    "# Re-Initialization\n",
    "thislist = [1, 2, 3, 4, 5]\n",
    "thislist = []\n",
    "print(thislist)"
   ]
  },
  {
   "cell_type": "code",
   "execution_count": 21,
   "id": "78c9c4bf-3267-4bd6-8b2b-8e2a67c4c6ca",
   "metadata": {},
   "outputs": [
    {
     "name": "stdout",
     "output_type": "stream",
     "text": [
      "['AAFT', 'Hapur', 'Garg', 'Pranjali']\n"
     ]
    }
   ],
   "source": [
    "#Q9. Reversing a List\n",
    "\n",
    "thislist = [\"Pranjali\", \"Garg\", \"Hapur\", \"AAFT\"]\n",
    "thislist= [\"Pranjali\", \"Garg\", \"Hapur\", \"AAFT\"]\n",
    "thislist.reverse()\n",
    "print(thislist)"
   ]
  },
  {
   "cell_type": "code",
   "execution_count": 25,
   "id": "5ec19c56-833e-4390-8c99-b3f5de791cfa",
   "metadata": {},
   "outputs": [
    {
     "name": "stdout",
     "output_type": "stream",
     "text": [
      "['Pranjali', 'Garg', 'Hapur', 'AAFT']\n"
     ]
    }
   ],
   "source": [
    "#Q10. Cloning or Copying a list\n",
    "\n",
    "thislist = [\"Pranjali\", \"Garg\", \"Hapur\", \"AAFT\"]\n",
    "thislist_2 = thislist.copy()\n",
    "print(thislist_2)\n"
   ]
  },
  {
   "cell_type": "code",
   "execution_count": 27,
   "id": "295faf63-a395-4534-bb14-b4cebd7ff674",
   "metadata": {},
   "outputs": [
    {
     "name": "stdout",
     "output_type": "stream",
     "text": [
      "2\n"
     ]
    }
   ],
   "source": [
    "#Q11. Count occurrences of an element in a list\n",
    "\n",
    "thislist = [1, 2, 3, 2, 5]\n",
    "print(thislist.count(2))\n",
    "\n"
   ]
  },
  {
   "cell_type": "code",
   "execution_count": 29,
   "id": "190e715e-800e-4260-a696-f37883d5f462",
   "metadata": {},
   "outputs": [
    {
     "name": "stdout",
     "output_type": "stream",
     "text": [
      "sum =  15\n",
      "average =  3.0\n"
     ]
    }
   ],
   "source": [
    "#Q12. Program to find sum and average of List in Python\n",
    "\n",
    "thislist = [1, 2, 3, 4, 5]\n",
    "count = sum(thislist)\n",
    "avg = count/len(thislist)\n",
    "\n",
    "print(\"sum = \", count)\n",
    "print(\"average = \", avg)"
   ]
  },
  {
   "cell_type": "code",
   "execution_count": 53,
   "id": "9de712c8-9063-41f0-8340-6b6bceeb1aed",
   "metadata": {},
   "outputs": [
    {
     "name": "stdout",
     "output_type": "stream",
     "text": [
      "[2, 4, 6, 8, 10]\n"
     ]
    }
   ],
   "source": [
    "#Q13. Sum of number digits in List\n",
    "\n",
    "thislist = [11, 22, 33, 44, 55]\n",
    "thislist2 = []\n",
    "for elem in thislist:\n",
    "   sum_val = 0\n",
    "   for digit in str(elem):\n",
    "      sum_val += int(digit)\n",
    "   thislist2.append(sum_val)\n",
    "print(thislist2)"
   ]
  },
  {
   "cell_type": "code",
   "execution_count": 31,
   "id": "32e67985-4cb5-4a7a-82ab-eaaf324314fe",
   "metadata": {},
   "outputs": [
    {
     "name": "stdout",
     "output_type": "stream",
     "text": [
      "120\n"
     ]
    }
   ],
   "source": [
    "#Q14. Multiply all numbers in the list\n",
    "\n",
    "def mul_list(thislist) :\n",
    "\n",
    "    number = 1\n",
    "    for i in thislist:\n",
    "         number = number * i\n",
    "    return number\n",
    "\n",
    "thislist = [1, 2, 3, 4, 5]\n",
    "print(mul_list(thislist))"
   ]
  },
  {
   "cell_type": "code",
   "execution_count": 55,
   "id": "f9c4371f-7b6b-4daf-b571-2f471e57923e",
   "metadata": {},
   "outputs": [
    {
     "name": "stdout",
     "output_type": "stream",
     "text": [
      "1\n"
     ]
    }
   ],
   "source": [
    "#Q15. Program to find smallest number in a list\n",
    "\n",
    "thislist= [1, 2, 3, 4, 5]\n",
    "print(min(thislist))"
   ]
  },
  {
   "cell_type": "code",
   "execution_count": 57,
   "id": "6cdff16b-7d44-4a9b-ab00-61fd966697cc",
   "metadata": {},
   "outputs": [
    {
     "name": "stdout",
     "output_type": "stream",
     "text": [
      "5\n"
     ]
    }
   ],
   "source": [
    "#Q16. Program to find largest number in a list\n",
    "\n",
    "thislist = [1, 2, 3, 4, 5]\n",
    "print(max(thislist))\n"
   ]
  },
  {
   "cell_type": "code",
   "execution_count": 35,
   "id": "3500734a-8054-4f14-b083-fdb5e6420e47",
   "metadata": {},
   "outputs": [
    {
     "name": "stdout",
     "output_type": "stream",
     "text": [
      "4\n"
     ]
    }
   ],
   "source": [
    "#Q17. Program to find second largest number in a list\n",
    "\n",
    "def find_second_largest(thislist):\n",
    "    return sorted(set(thislist))[-2]\n",
    "\n",
    "thislist = [1, 2, 3, 4, 5]\n",
    "print(find_second_largest(thislist))"
   ]
  },
  {
   "cell_type": "code",
   "execution_count": 37,
   "id": "291110cf-faca-4d87-b19e-052ba2e1a290",
   "metadata": {},
   "outputs": [
    {
     "name": "stdout",
     "output_type": "stream",
     "text": [
      "[2, 4]\n"
     ]
    }
   ],
   "source": [
    "#Q18. Program to print even numbers in a list\n",
    "\n",
    "thislist= [1, 2, 3, 4, 5]\n",
    "thislist= [1, 2, 3, 4, 5]\n",
    "thislist= [num for num in thislist if num % 2 == 0]\n",
    "print(thislist)\n"
   ]
  },
  {
   "cell_type": "code",
   "execution_count": 59,
   "id": "16db99f5-12bb-4a7c-9c63-b209d446f161",
   "metadata": {},
   "outputs": [
    {
     "name": "stdout",
     "output_type": "stream",
     "text": [
      "[1, 3, 5]\n"
     ]
    }
   ],
   "source": [
    "#Q19. Program to print odd numbers in a List\n",
    "\n",
    "thislist = [1, 2, 3, 4, 5]\n",
    "thislist = [num for num in thislist if num % 2 == 1]\n",
    "print(thislist)"
   ]
  },
  {
   "cell_type": "code",
   "execution_count": 61,
   "id": "aa7afe92-75db-456c-a872-9ba2e8412d0f",
   "metadata": {},
   "outputs": [
    {
     "name": "stdout",
     "output_type": "stream",
     "text": [
      "2 4 6 8 10 12 14 16 18 20 "
     ]
    }
   ],
   "source": [
    "#Q20. Program to print all even numbers in a range\n",
    "\n",
    "start, end = 1, 20\n",
    "for num in range(start, end + 1):\n",
    "   if num % 2 == 0:\n",
    "      print(num, end = \" \")\n"
   ]
  },
  {
   "cell_type": "code",
   "execution_count": 63,
   "id": "5c58e35b-56e9-42dc-9949-053ea0b09a25",
   "metadata": {},
   "outputs": [
    {
     "name": "stdout",
     "output_type": "stream",
     "text": [
      "1 3 5 7 9 11 13 15 17 19 "
     ]
    }
   ],
   "source": [
    "#Q21. Program to print all odd numbers in a range\n",
    "\n",
    "start, end = 1, 20\n",
    "for num in range(start, end + 1):\n",
    "   if num % 2 != 0:\n",
    "      print(num, end = \" \")"
   ]
  },
  {
   "cell_type": "code",
   "execution_count": 65,
   "id": "2fe5422d-1705-4735-927b-613481ad4b70",
   "metadata": {},
   "outputs": [
    {
     "name": "stdout",
     "output_type": "stream",
     "text": [
      "Even numbers :  3\n",
      "Odd numbers :  2\n"
     ]
    }
   ],
   "source": [
    "#Q22. Program to count Even and Odd numbers in a List\n",
    "\n",
    "\n",
    "thislist = [10, 20, 3, 40, 5,]\n",
    "even_count, odd_count = 0, 0\n",
    "for num in thislist:\n",
    "\n",
    "   if num % 2 == 0:\n",
    "      even_count += 1\n",
    "\n",
    "   else:\n",
    "      odd_count += 1\n",
    "print(\"Even numbers : \", even_count)\n",
    "print(\"Odd numbers : \", odd_count)\n"
   ]
  },
  {
   "cell_type": "code",
   "execution_count": 67,
   "id": "9e3d3fe5-2e77-4313-a8ba-81eb73c19b97",
   "metadata": {},
   "outputs": [
    {
     "name": "stdout",
     "output_type": "stream",
     "text": [
      "2 4 5 7 "
     ]
    }
   ],
   "source": [
    "#Q23. Program to print positive numbers in a list\n",
    "\n",
    "thislist = [2,-3,4,5,-6,7]\n",
    "\n",
    "def print_positive_numbers(thislist):\n",
    "\n",
    "  for num in thislist:\n",
    "    if num > 0:\n",
    "      print(num, end=\" \")\n",
    "\n",
    "print_positive_numbers(thislist)"
   ]
  },
  {
   "cell_type": "code",
   "execution_count": 69,
   "id": "17145133-c919-4fbd-a090-7cb4558d59e0",
   "metadata": {},
   "outputs": [
    {
     "name": "stdout",
     "output_type": "stream",
     "text": [
      "-3 -6 "
     ]
    }
   ],
   "source": [
    "#Q24. Program to print negative numbers in a list\n",
    "\n",
    "thislist = [2,-3,4,5,-6,7]\n",
    "\n",
    "def print_positive_numbers(thislist):\n",
    "\n",
    "  for num in thislist:\n",
    "    if num < 0:\n",
    "      print(num, end=\" \")\n",
    "\n",
    "print_positive_numbers(thislist)"
   ]
  },
  {
   "cell_type": "code",
   "execution_count": 71,
   "id": "936cf9b6-7ece-4749-842a-51cb3c3650ec",
   "metadata": {},
   "outputs": [
    {
     "name": "stdout",
     "output_type": "stream",
     "text": [
      "1 2 3 4 5 6 7 8 9 10 11 12 13 14 15 16 17 18 19 20 "
     ]
    }
   ],
   "source": [
    "#Q25. Program to print all positive numbers in a range\n",
    "\n",
    "start, end = -20, 20\n",
    "for num in range(start, end + 1):\n",
    "   if num > 0:\n",
    "      print(num, end = \" \")"
   ]
  },
  {
   "cell_type": "code",
   "execution_count": 73,
   "id": "f103ec1b-3718-45c5-8531-18c400ca9125",
   "metadata": {},
   "outputs": [
    {
     "name": "stdout",
     "output_type": "stream",
     "text": [
      "-20 -19 -18 -17 -16 -15 -14 -13 -12 -11 -10 -9 -8 -7 -6 -5 -4 -3 -2 -1 "
     ]
    }
   ],
   "source": [
    "#Q26. Program to print all negative numbers in a range\n",
    "\n",
    "start, end = -20, 20\n",
    "for num in range(start, end + 1):\n",
    "   if num < 0:\n",
    "      print(num, end = \" \")\n"
   ]
  },
  {
   "cell_type": "code",
   "execution_count": 75,
   "id": "90d72c15-f6ff-49a5-9cc3-f5c2a56132ff",
   "metadata": {},
   "outputs": [
    {
     "name": "stdout",
     "output_type": "stream",
     "text": [
      "Positive numbers :  3\n",
      "Negative numbers :  2\n"
     ]
    }
   ],
   "source": [
    "#Q27. Program to count positive and negative numbers in a list\n",
    "\n",
    "thislist = [-10, 20, -3, 40, 5,]\n",
    "\n",
    "positive_numbers, negative_numbers = 0, 0\n",
    "\n",
    "for num in thislist:\n",
    "\n",
    "   if num >= 0:\n",
    "      positive_numbers += 1\n",
    "   else:\n",
    "      negative_numbers += 1\n",
    "\n",
    "print(\"Positive numbers : \", positive_numbers)\n",
    "print(\"Negative numbers : \", negative_numbers)"
   ]
  },
  {
   "cell_type": "code",
   "execution_count": 43,
   "id": "879537fc-887c-4aa3-b363-6437ec3fc338",
   "metadata": {},
   "outputs": [
    {
     "name": "stdout",
     "output_type": "stream",
     "text": [
      "[1, 5]\n"
     ]
    }
   ],
   "source": [
    "#Q28. Remove multiple elements from a list in Python\n",
    "\n",
    "thislist = [1, 2, 3, 4, 5]\n",
    "del thislist[1:4]\n",
    "print(thislist)"
   ]
  },
  {
   "cell_type": "code",
   "execution_count": 45,
   "id": "44688b59-cf4e-4f9c-9715-1c2490c1048b",
   "metadata": {},
   "outputs": [
    {
     "name": "stdout",
     "output_type": "stream",
     "text": [
      "[1, 3, 5, 6]\n"
     ]
    }
   ],
   "source": [
    "#Q29. Remove empty tuples from a list\n",
    "\n",
    "thislist = [1, (), 3, (), 5, 6]\n",
    "res = list(filter(None, thislist))\n",
    "print(str(res))\n"
   ]
  },
  {
   "cell_type": "code",
   "execution_count": 51,
   "id": "ce49627d-639c-4073-b004-069a481be24a",
   "metadata": {},
   "outputs": [
    {
     "name": "stdout",
     "output_type": "stream",
     "text": [
      "[]\n"
     ]
    }
   ],
   "source": [
    "#Q30. Program to print duplicates from a list of integers\n",
    "\n",
    "def Repeat(x):\n",
    "\t_size = len(x)\n",
    "\trepeated = []\n",
    "\tfor i in range(_size):\n",
    "\t\tk = i + 1\n",
    "\t\tfor j in range(k, _size):\n",
    "\t\t\tif x[i] == x[j] and x[i] not in repeated:\n",
    "\t\t\t\trepeated.append(x[i])\n",
    "\treturn repeated\n",
    "\n",
    "thislist = [10, 20, 30 ]\n",
    "print (Repeat(thislist))\n"
   ]
  },
  {
   "cell_type": "code",
   "execution_count": null,
   "id": "6ad6adfb-6080-4f23-afcb-a0be89bf62fd",
   "metadata": {},
   "outputs": [],
   "source": []
  },
  {
   "cell_type": "code",
   "execution_count": null,
   "id": "6627dca3-6a16-4ac9-a101-92fed52c3eac",
   "metadata": {},
   "outputs": [],
   "source": []
  },
  {
   "cell_type": "code",
   "execution_count": null,
   "id": "d460fe80-0299-496e-a490-2bf594ce3a87",
   "metadata": {},
   "outputs": [],
   "source": []
  },
  {
   "cell_type": "code",
   "execution_count": null,
   "id": "04ba2dba-6eb3-4da7-82e6-2129cb8e4f29",
   "metadata": {},
   "outputs": [],
   "source": []
  },
  {
   "cell_type": "code",
   "execution_count": null,
   "id": "33b95d3f-b2a7-4cce-ad75-86381616457f",
   "metadata": {},
   "outputs": [],
   "source": []
  }
 ],
 "metadata": {
  "kernelspec": {
   "display_name": "Python 3 (ipykernel)",
   "language": "python",
   "name": "python3"
  },
  "language_info": {
   "codemirror_mode": {
    "name": "ipython",
    "version": 3
   },
   "file_extension": ".py",
   "mimetype": "text/x-python",
   "name": "python",
   "nbconvert_exporter": "python",
   "pygments_lexer": "ipython3",
   "version": "3.12.4"
  }
 },
 "nbformat": 4,
 "nbformat_minor": 5
}
